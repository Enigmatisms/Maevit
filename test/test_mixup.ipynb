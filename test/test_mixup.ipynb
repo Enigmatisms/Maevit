{
 "cells": [
  {
   "cell_type": "code",
   "execution_count": null,
   "metadata": {},
   "outputs": [],
   "source": [
    "# The snippet is from timm official docs\n",
    "\n",
    "import torch\n",
    "from timm.data.mixup import Mixup\n",
    "from timm.data.dataset import ImageDataset\n",
    "from timm.data.loader import create_loader\n",
    "def get_dataset_and_loader(mixup_args):\n",
    "    mixup_fn = Mixup(**mixup_args)\n",
    "    dataset = ImageDataset('../dataset/imagenette2-320/')\n",
    "    loader = create_loader(dataset, \n",
    "                           input_size=(3,224,224), \n",
    "                           batch_size=4, \n",
    "                           is_training=True, \n",
    "                           use_prefetcher=False)\n",
    "    return mixup_fn, dataset, loader"
   ]
  },
  {
   "cell_type": "code",
   "execution_count": null,
   "metadata": {},
   "outputs": [],
   "source": [
    "import torchvision\n",
    "import numpy as np\n",
    "from matplotlib import pyplot as plt\n",
    "def imshow(inp, title=None):\n",
    "    \"\"\"Imshow for Tensor.\"\"\"\n",
    "    inp = inp.numpy().transpose((1, 2, 0))\n",
    "    mean = np.array([0.485, 0.456, 0.406])\n",
    "    std = np.array([0.229, 0.224, 0.225])\n",
    "    inp = std * inp + mean\n",
    "    inp = np.clip(inp, 0, 1)\n",
    "    plt.imshow(inp)\n",
    "    if title is not None:\n",
    "        plt.title(title)\n",
    "    plt.pause(0.001)  # pause a bit so that plots are updated"
   ]
  },
  {
   "cell_type": "code",
   "execution_count": null,
   "metadata": {},
   "outputs": [],
   "source": [
    "mixup_args = {\n",
    "    'mixup_alpha': 0.8,\n",
    "    'cutmix_alpha': 1.0,\n",
    "    'cutmix_minmax': None,\n",
    "    'prob': 1.0,\n",
    "    'switch_prob': 0.5,\n",
    "    'mode': 'batch',\n",
    "    'label_smoothing': 0.1,\n",
    "    'num_classes': 10}"
   ]
  },
  {
   "cell_type": "code",
   "execution_count": null,
   "metadata": {},
   "outputs": [],
   "source": [
    "mixup_fn, dataset, loader = get_dataset_and_loader(mixup_args)\n",
    "inputs, classes = next(iter(loader))\n",
    "inputs, classes = mixup_fn(inputs, classes)\n",
    "out = torchvision.utils.make_grid(inputs)\n",
    "imshow(out, title=[x.item() for x in classes.argmax(1)])"
   ]
  }
 ],
 "metadata": {
  "interpreter": {
   "hash": "31f2aee4e71d21fbe5cf8b01ff0e069b9275f58929596ceb00d14d90e3e16cd6"
  },
  "kernelspec": {
   "display_name": "Python 3.6.9 64-bit",
   "name": "python3"
  },
  "language_info": {
   "codemirror_mode": {
    "name": "ipython",
    "version": 3
   },
   "file_extension": ".py",
   "mimetype": "text/x-python",
   "name": "python",
   "nbconvert_exporter": "python",
   "pygments_lexer": "ipython3",
   "version": "3.6.9"
  },
  "orig_nbformat": 4
 },
 "nbformat": 4,
 "nbformat_minor": 2
}
